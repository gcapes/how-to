{
 "cells": [
  {
   "cell_type": "markdown",
   "id": "ab8aa177-310c-4651-8a1c-6025360b8b67",
   "metadata": {},
   "source": [
    "# Multi-core processing in python\n",
    "Here I'm using the multiprocessing module with `pool.map` and `pool.starmap` \n",
    "to run a function over a range of inputs using multiple cores at the same time.\n",
    "The syntax is like a vectorised form of `parpool` in MATLAB."
   ]
  },
  {
   "cell_type": "markdown",
   "id": "cbc75418-4e41-4a05-9fce-31ab9e1a3436",
   "metadata": {},
   "source": [
    "## Serial vs parallel using a function with one argument"
   ]
  },
  {
   "cell_type": "code",
   "execution_count": 31,
   "id": "1a6c65d1-a6a5-4b1e-9433-7c29aeae7fb3",
   "metadata": {},
   "outputs": [],
   "source": [
    "import time\n",
    "import multiprocessing as mp"
   ]
  },
  {
   "cell_type": "code",
   "execution_count": 80,
   "id": "fe1390ee-ce8c-4939-8721-b8d43406f1ef",
   "metadata": {},
   "outputs": [],
   "source": [
    "def double_wait(number):\n",
    "    \"\"\"Double a number, and wait a couple of secs\"\"\"\n",
    "    double = number * 2\n",
    "    time.sleep(1)\n",
    "    return double"
   ]
  },
  {
   "cell_type": "code",
   "execution_count": 71,
   "id": "7dadb001-7319-4c1d-a8de-cdc3920a216d",
   "metadata": {},
   "outputs": [],
   "source": [
    "def time_it(func):\n",
    "    \"\"\"A decorator function to time execution\"\"\"\n",
    "    def wrapper(*args):\n",
    "        st = time.time()\n",
    "        func(*args)\n",
    "        et = time.time()\n",
    "        elapsed_time = et - st\n",
    "        print('Execution time:', elapsed_time, 'seconds')\n",
    "        return func(*args)\n",
    "    return wrapper"
   ]
  },
  {
   "cell_type": "markdown",
   "id": "51e2bce4-db37-4aa8-a821-f11b5ade070e",
   "metadata": {},
   "source": [
    "Normal, single-threaded loop"
   ]
  },
  {
   "cell_type": "code",
   "execution_count": 78,
   "id": "a708f7a5-e430-41d6-8450-ab9c2c811ab6",
   "metadata": {},
   "outputs": [],
   "source": [
    "@time_it\n",
    "def single_thread_one_arg(numbers):\n",
    "    \"\"\"Run double_wait in a serial loop\"\"\"\n",
    "    doubles = []\n",
    "    for num in numbers:\n",
    "        doubles.append(double_wait(num))\n",
    "    return doubles"
   ]
  },
  {
   "cell_type": "code",
   "execution_count": 76,
   "id": "20412e05-eafb-45a5-85f6-951c33dfc08a",
   "metadata": {},
   "outputs": [
    {
     "name": "stdout",
     "output_type": "stream",
     "text": [
      "Execution time: 8.008411169052124 seconds\n",
      "[2, 4, 6, 8, 10, 12, 14, 16]\n"
     ]
    }
   ],
   "source": [
    "numbers = [1, 2, 3, 4, 5, 6, 7, 8]\n",
    "st_result = single_thread_one_arg(numbers)\n",
    "print(st_result)"
   ]
  },
  {
   "cell_type": "markdown",
   "id": "62f7af18-80cb-4fb4-a22d-377d5a0f8c84",
   "metadata": {},
   "source": [
    "Now using a parallel pool"
   ]
  },
  {
   "cell_type": "code",
   "execution_count": 79,
   "id": "b5329ddb-0883-4696-a7ec-9b3487a694a2",
   "metadata": {},
   "outputs": [],
   "source": [
    "@time_it\n",
    "def multi_thread(numbers):\n",
    "    \"\"\"Run double_wait in a parallel loop\"\"\"\n",
    "    pool = mp.Pool(mp.cpu_count())\n",
    "    doubles = pool.map(double_wait, numbers)\n",
    "    return doubles"
   ]
  },
  {
   "cell_type": "code",
   "execution_count": 75,
   "id": "67cb3f30-3718-4ff4-a943-83bfeba4eb8b",
   "metadata": {},
   "outputs": [
    {
     "name": "stdout",
     "output_type": "stream",
     "text": [
      "Execution time: 1.0622458457946777 seconds\n",
      "[2, 4, 6, 8, 10, 12, 14, 16]\n"
     ]
    }
   ],
   "source": [
    "mt_result = multi_thread(numbers)\n",
    "print(mt_result)"
   ]
  },
  {
   "cell_type": "markdown",
   "id": "8d889b7e-4ace-465c-a7dc-f647be0e6cb0",
   "metadata": {},
   "source": [
    "## What about multiple arguments?"
   ]
  },
  {
   "cell_type": "code",
   "execution_count": 87,
   "id": "9977463f-c495-4f6c-9e02-d6ef397c6dc6",
   "metadata": {},
   "outputs": [],
   "source": [
    "def two_args_wait(number, string):\n",
    "    \"\"\"Double a number, double a string, then wait\"\"\"\n",
    "    double_num = number * 2\n",
    "    double_str = string + string\n",
    "    time.sleep(1)\n",
    "    return double_num, double_str"
   ]
  },
  {
   "cell_type": "code",
   "execution_count": 93,
   "id": "7c4f8c28",
   "metadata": {},
   "outputs": [],
   "source": [
    "@time_it\n",
    "def single_thread_two_args(numbers, strings):\n",
    "    \"\"\"Run two_args_wait in a serial loop\"\"\"\n",
    "    results = []\n",
    "    for num, str in zip(numbers, strings):\n",
    "        results.append(two_args_wait(num, str))\n",
    "    return results"
   ]
  },
  {
   "cell_type": "code",
   "execution_count": 94,
   "id": "fcb380d6-e7d1-4648-bb7d-9351b6b07799",
   "metadata": {},
   "outputs": [],
   "source": [
    "strings = ['a', 'b', 'c', 'd', 'e', 'f', 'g', 'h']"
   ]
  },
  {
   "cell_type": "code",
   "execution_count": 99,
   "id": "03e6f28f-242c-4c3e-98bb-106c496f2c7d",
   "metadata": {},
   "outputs": [
    {
     "name": "stdout",
     "output_type": "stream",
     "text": [
      "Execution time: 8.009098529815674 seconds\n",
      "[(2, 'aa'), (4, 'bb'), (6, 'cc'), (8, 'dd'), (10, 'ee'), (12, 'ff'), (14, 'gg'), (16, 'hh')]\n"
     ]
    }
   ],
   "source": [
    "serial_results =  single_thread_two_args(numbers, strings)\n",
    "print(serial_results)"
   ]
  },
  {
   "cell_type": "code",
   "execution_count": 104,
   "id": "e451de52-4d6e-4096-9e2b-66a8fd004af0",
   "metadata": {},
   "outputs": [],
   "source": [
    "@time_it\n",
    "def multi_thread_two_args(numbers, strings):\n",
    "    \"\"\"Run two_args_wait in a parallel loop\"\"\"\n",
    "    pool = mp.Pool(mp.cpu_count())\n",
    "    tuple_list = [(num, str) for num, str in zip(numbers, strings)]\n",
    "    results = pool.starmap(two_args_wait, tuple_list)\n",
    "    return results"
   ]
  },
  {
   "cell_type": "code",
   "execution_count": 105,
   "id": "b84b40e6-b29b-4816-b116-c209ece5a69e",
   "metadata": {},
   "outputs": [
    {
     "name": "stdout",
     "output_type": "stream",
     "text": [
      "Execution time: 1.0460655689239502 seconds\n",
      "[(2, 'aa'), (4, 'bb'), (6, 'cc'), (8, 'dd'), (10, 'ee'), (12, 'ff'), (14, 'gg'), (16, 'hh')]\n"
     ]
    }
   ],
   "source": [
    "parallel_results = multi_thread_two_args(numbers, strings)\n",
    "print(parallel_results)"
   ]
  }
 ],
 "metadata": {
  "kernelspec": {
   "display_name": "Python 3 (ipykernel)",
   "language": "python",
   "name": "python3"
  },
  "language_info": {
   "codemirror_mode": {
    "name": "ipython",
    "version": 3
   },
   "file_extension": ".py",
   "mimetype": "text/x-python",
   "name": "python",
   "nbconvert_exporter": "python",
   "pygments_lexer": "ipython3",
   "version": "3.10.5"
  }
 },
 "nbformat": 4,
 "nbformat_minor": 5
}
